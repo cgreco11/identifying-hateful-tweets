{
 "cells": [
  {
   "cell_type": "code",
   "execution_count": 296,
   "metadata": {},
   "outputs": [],
   "source": [
    "import pandas as pd\n",
    "import numpy as np\n",
    "import re\n",
    "import matplotlib.pyplot as plt\n",
    "import seaborn as sns\n",
    "import nltk\n",
    "import string\n",
    "import warnings\n",
    "warnings.filterwarnings(\"ignore\", category = DeprecationWarning)\n",
    "\n",
    "%matplotlib inline"
   ]
  },
  {
   "cell_type": "code",
   "execution_count": 297,
   "metadata": {},
   "outputs": [
    {
     "name": "stderr",
     "output_type": "stream",
     "text": [
      "/usr/local/devel/ANNOTATION/cgreco/miniconda3/lib/python3.7/site-packages/pandas/core/frame.py:6692: FutureWarning: Sorting because non-concatenation axis is not aligned. A future version\n",
      "of pandas will change to not sort by default.\n",
      "\n",
      "To accept the future behavior, pass 'sort=False'.\n",
      "\n",
      "To retain the current behavior and silence the warning, pass 'sort=True'.\n",
      "\n",
      "  sort=sort)\n"
     ]
    }
   ],
   "source": [
    "train_data = pd.read_csv(\"train.csv\", sep = \",\", header = 0)\n",
    "test_data = pd.read_csv(\"test.csv\", sep = \",\", header = 0)\n",
    "combined_data = train_data.append(test_data, ignore_index = True)\n"
   ]
  },
  {
   "cell_type": "markdown",
   "metadata": {},
   "source": [
    "Train Data is split into three columns: id, label, tweet. \n",
    "\n",
    "label contains information on whether the tweet is racist, sexist, etc (1) or not (0).\n",
    "tweet contains the actual text information of the tweet. \n",
    "\n",
    "\n",
    "The first step is to define a function to remove any unnecssary information contained within the tweets."
   ]
  },
  {
   "cell_type": "code",
   "execution_count": 298,
   "metadata": {},
   "outputs": [],
   "source": [
    "#1. Remove User's mentioned in the tweets-- Anything that starts with \"@\". \n",
    "def remove_pattern(input_txt, pattern):\n",
    "    return \" \".join(list(filter(lambda x:x[0]!=pattern, input_txt.split())))\n",
    "\n",
    "combined_data[\"sanitized_tweet\"] = np.vectorize(remove_pattern)(combined_data[\"tweet\"], \"@\")"
   ]
  },
  {
   "cell_type": "code",
   "execution_count": 299,
   "metadata": {},
   "outputs": [],
   "source": [
    "#2. Remove special punctuation. \n",
    "combined_data['sanitized_tweet'] = combined_data['sanitized_tweet'].str.replace(\"[^a-zA-z#]\", \" \")"
   ]
  },
  {
   "cell_type": "code",
   "execution_count": 300,
   "metadata": {},
   "outputs": [],
   "source": [
    "#3. Remove short words and tokenize (put into list of words)\n",
    "combined_data['sanitized_tweet'] = combined_data['sanitized_tweet'].apply(lambda x: [word for word in x.split() if len(word) > 2])"
   ]
  },
  {
   "cell_type": "code",
   "execution_count": 301,
   "metadata": {},
   "outputs": [
    {
     "name": "stdout",
     "output_type": "stream",
     "text": [
      "   id  label                                              tweet  \\\n",
      "0   1    0.0   @user when a father is dysfunctional and is s...   \n",
      "1   2    0.0  @user @user thanks for #lyft credit i can't us...   \n",
      "2   3    0.0                                bihday your majesty   \n",
      "3   4    0.0  #model   i love u take with u all the time in ...   \n",
      "4   5    0.0             factsguide: society now    #motivation   \n",
      "\n",
      "                                     sanitized_tweet  \n",
      "0  [when, father, dysfunctional, and, selfish, dr...  \n",
      "1  [thanks, for, #lyft, credit, can, use, cause, ...  \n",
      "2                            [bihday, your, majesty]  \n",
      "3         [#model, love, take, with, all, the, time]  \n",
      "4            [factsguide, society, now, #motivation]  \n"
     ]
    }
   ],
   "source": [
    "#Check results of our cleaning\n",
    "print(combined_data.head())"
   ]
  },
  {
   "cell_type": "markdown",
   "metadata": {},
   "source": [
    "Now we have tokenized, sanitized tweets. We now strip the suffixes of the words to get to the heart of the word in each tokenized tweet. This process is called \"Stemming\". "
   ]
  },
  {
   "cell_type": "code",
   "execution_count": 302,
   "metadata": {},
   "outputs": [
    {
     "name": "stdout",
     "output_type": "stream",
     "text": [
      "   id  label                                              tweet  \\\n",
      "0   1    0.0   @user when a father is dysfunctional and is s...   \n",
      "1   2    0.0  @user @user thanks for #lyft credit i can't us...   \n",
      "2   3    0.0                                bihday your majesty   \n",
      "3   4    0.0  #model   i love u take with u all the time in ...   \n",
      "4   5    0.0             factsguide: society now    #motivation   \n",
      "\n",
      "                                     sanitized_tweet  \n",
      "0  [when, father, dysfunct, and, selfish, drag, h...  \n",
      "1  [thank, for, #lyft, credit, can, use, caus, th...  \n",
      "2                            [bihday, your, majesti]  \n",
      "3         [#model, love, take, with, all, the, time]  \n",
      "4                  [factsguid, societi, now, #motiv]  \n"
     ]
    }
   ],
   "source": [
    "from nltk.stem.porter import *\n",
    "stemmer = PorterStemmer()\n",
    "\n",
    "combined_data['sanitized_tweet'] = combined_data['sanitized_tweet'].apply(lambda x: [stemmer.stem(i) for i in x])\n",
    "print(combined_data.head())\n"
   ]
  },
  {
   "cell_type": "markdown",
   "metadata": {},
   "source": [
    "Now we have stemmed tweets. We can now explore the data to identify trends/patterns between those labeled racist/sexist (1) and not (0).\n",
    "\n",
    "Let's first look at the hashtag's and see which are associated with each label. "
   ]
  },
  {
   "cell_type": "code",
   "execution_count": 303,
   "metadata": {},
   "outputs": [],
   "source": [
    "combined_data['sanitized_tweet'] = combined_data['sanitized_tweet'].apply(lambda x: \" \".join(x))\n",
    "\n",
    "def extract_hashtags(tweets):\n",
    "    hashtags = []\n",
    "    for tweet in tweets:\n",
    "        hashtag = re.findall(r\"#(\\w+)\", tweet)\n",
    "        hashtags.append(hashtag)\n",
    "    return hashtags\n",
    "\n",
    "label1_ht = extract_hashtags(combined_data['sanitized_tweet'][combined_data['label'] == 1])\n",
    "badHashTags = [item for i in label1_ht for item in i]\n",
    "label0_ht = extract_hashtags(combined_data['sanitized_tweet'][combined_data['label'] == 0])\n",
    "goodHashTags = [item for i in label0_ht for item in i]\n"
   ]
  },
  {
   "cell_type": "markdown",
   "metadata": {},
   "source": [
    "Now we have a list of each set of hashtags. We can plot the most frequent to see the most common words in each group. "
   ]
  },
  {
   "cell_type": "code",
   "execution_count": 304,
   "metadata": {},
   "outputs": [
    {
     "data": {
      "image/png": "[encoded data removed]",
      "text/plain": [
       "<Figure size 1152x360 with 1 Axes>"
      ]
     },
     "metadata": {
      "needs_background": "light"
     },
     "output_type": "display_data"
    },
    {
     "data": {
      "image/png": "[encoded data removed]",
      "text/plain": [
       "<Figure size 1152x360 with 1 Axes>"
      ]
     },
     "metadata": {
      "needs_background": "light"
     },
     "output_type": "display_data"
    }
   ],
   "source": [
    "def plot_frequencies(list_of_hashtags, title):\n",
    "    a = nltk.FreqDist(list_of_hashtags)\n",
    "    d = pd.DataFrame({'Hashtag': list(a.keys()), 'Count': list(a.values())})\n",
    "    d = d.nlargest(columns=\"Count\", n = 10) \n",
    "    plt.figure(figsize=(16,5))\n",
    "    ax = sns.barplot(data=d, x= \"Hashtag\", y = \"Count\")\n",
    "    ax.set(ylabel = 'Count', title = title)\n",
    "    plt.show()\n",
    "\n",
    "plot_frequencies(badHashTags, \"Racist/Sexist\")\n",
    "plot_frequencies(goodHashTags, \"Not Racist/Sexist\")"
   ]
  },
  {
   "cell_type": "markdown",
   "metadata": {},
   "source": [
    "Now that we've visualized the hashtags, we can see that they seem to be meaningful. We won't filter them out of the tweets. \n",
    "\n",
    "We now have cleaned tweets. We will extract N number of features from the cleaned tweets using several methods to see which performs the best. \n",
    "\n",
    "1). Bag-of-Words\n",
    "2). TF-IDF\n"
   ]
  },
  {
   "cell_type": "code",
   "execution_count": 305,
   "metadata": {},
   "outputs": [],
   "source": [
    "#Feature Extraction using Bag-of-Words Features\n",
    "from sklearn.feature_extraction.text import CountVectorizer\n",
    "bow_vectorizer = CountVectorizer(max_df = .8, min_df = 2, max_features=1000, stop_words = 'english')\n",
    "bow = bow_vectorizer.fit_transform(combined_data['sanitized_tweet'])"
   ]
  },
  {
   "cell_type": "code",
   "execution_count": 306,
   "metadata": {},
   "outputs": [],
   "source": [
    "#Feature Extraction using TF-IDF\n",
    "from sklearn.feature_extraction.text import TfidfVectorizer\n",
    "tfidf_vectorizer = TfidfVectorizer(max_df=0.8, min_df = 2, max_features = 1000, stop_words = 'english')\n",
    "tfidf = tfidf_vectorizer.fit_transform(combined_data['sanitized_tweet'])"
   ]
  },
  {
   "cell_type": "markdown",
   "metadata": {},
   "source": [
    "Now that we have two different sets of feature vectors, we can begin the modeling process. "
   ]
  },
  {
   "cell_type": "code",
   "execution_count": 307,
   "metadata": {},
   "outputs": [
    {
     "name": "stderr",
     "output_type": "stream",
     "text": [
      "/usr/local/devel/ANNOTATION/cgreco/miniconda3/lib/python3.7/site-packages/sklearn/linear_model/logistic.py:433: FutureWarning: Default solver will be changed to 'lbfgs' in 0.22. Specify a solver to silence this warning.\n",
      "  FutureWarning)\n"
     ]
    },
    {
     "data": {
      "text/plain": [
       "0.5571895424836603"
      ]
     },
     "execution_count": 307,
     "metadata": {},
     "output_type": "execute_result"
    }
   ],
   "source": [
    "#Using Bag-of-Words\n",
    "from sklearn.linear_model import LogisticRegression\n",
    "from sklearn.model_selection import train_test_split\n",
    "from sklearn.metrics import f1_score\n",
    "\n",
    "train_bow = bow[:31962,:]\n",
    "test_bow = bow[31962:,:]\n",
    "\n",
    "# splitting data into training and validation set\n",
    "xtrain_bow, xvalid_bow, ytrain, yvalid = train_test_split(train_bow, train_data['label'], random_state=42, test_size=0.3)\n",
    "\n",
    "lreg = LogisticRegression()\n",
    "lreg.fit(xtrain_bow, ytrain) # training the model\n",
    "\n",
    "prediction = lreg.predict_proba(xvalid_bow) # predicting on the validation set\n",
    "prediction_int = prediction[:,1] >= 0.3 # if prediction is greater than or equal to 0.3 than 1 else 0\n",
    "prediction_int = prediction_int.astype(np.int)\n",
    "\n",
    "f1_score(yvalid, prediction_int) # calculating f1 score"
   ]
  },
  {
   "cell_type": "code",
   "execution_count": 308,
   "metadata": {},
   "outputs": [],
   "source": [
    "test_pred = lreg.predict_proba(test_bow)\n",
    "test_pred_int = test_pred[:,1] >= 0.3\n",
    "test_pred_int = test_pred_int.astype(np.int)\n",
    "test_data['label'] = test_pred_int\n",
    "submission = test_data[['id','label']]\n",
    "submission.to_csv('sub_lreg_bow.csv', index=False) # writing data to a CSV file"
   ]
  },
  {
   "cell_type": "code",
   "execution_count": 309,
   "metadata": {},
   "outputs": [
    {
     "data": {
      "text/plain": [
       "0.5473321858864029"
      ]
     },
     "execution_count": 309,
     "metadata": {},
     "output_type": "execute_result"
    }
   ],
   "source": [
    "#Using TF-IDF\n",
    "train_tfidf = tfidf[:31962,:]\n",
    "test_tfidf = tfidf[31962:,:]\n",
    "\n",
    "xtrain_tfidf = train_tfidf[ytrain.index]\n",
    "xvalid_tfidf = train_tfidf[yvalid.index]\n",
    "\n",
    "lreg.fit(xtrain_tfidf, ytrain)\n",
    "\n",
    "prediction = lreg.predict_proba(xvalid_tfidf)\n",
    "prediction_int = prediction[:,1] >= 0.3\n",
    "prediction_int = prediction_int.astype(np.int)\n",
    "\n",
    "f1_score(yvalid, prediction_int)"
   ]
  }
 ],
 "metadata": {
  "kernelspec": {
   "display_name": "Python 3",
   "language": "python",
   "name": "python3"
  },
  "language_info": {
   "codemirror_mode": {
    "name": "ipython",
    "version": 3
   },
   "file_extension": ".py",
   "mimetype": "text/x-python",
   "name": "python",
   "nbconvert_exporter": "python",
   "pygments_lexer": "ipython3",
   "version": "3.7.1"
  }
 },
 "nbformat": 4,
 "nbformat_minor": 2
}
